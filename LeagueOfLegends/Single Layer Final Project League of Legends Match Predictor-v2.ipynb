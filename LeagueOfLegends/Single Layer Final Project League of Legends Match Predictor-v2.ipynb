{
 "cells": [
  {
   "cell_type": "markdown",
   "metadata": {},
   "source": [
    "# Final Project: League of Legends Match Predictor \n"
   ]
  },
  {
   "cell_type": "markdown",
   "metadata": {},
   "source": [
    "### Introduction  \n",
    "\n",
    "League of Legends, a popular multiplayer online battle arena (MOBA) game, generates extensive data from matches, providing an excellent opportunity to apply machine learning techniques to real-world scenarios. Perform the following steps to build a logistic regression model aimed at predicting the outcomes of League of Legends matches.  \n",
    "\n",
    "Use the [league_of_legends_data_large.csv](https://cf-courses-data.s3.us.cloud-object-storage.appdomain.cloud/rk7VDaPjMp1h5VXS-cUyMg/league-of-legends-data-large.csv) file to perform the tasks.  \n",
    "\n",
    "### Step 1: Data Loading and Preprocessing  \n",
    "\n",
    "#### Task 1: Load the League of Legends dataset and preprocess it for training.  \n",
    "\n",
    "Loading and preprocessing the dataset involves reading the data, splitting it into training and testing sets, and standardizing the features. You will utilize `pandas` for data manipulation, `train_test_split` from `sklearn` for data splitting, and `StandardScaler` for feature scaling.  \n",
    "\n",
    "Note: Please ensure all the required libraries are installed and imported.\n",
    "\n",
    "1 .Load the dataset:\n",
    "Use `pd.read_csv()` to load the dataset into a pandas DataFrame.</br>\n",
    "2. Split data into features and target: Separate win (target) and the remaining columns (features).</br>\n",
    "   X = data.drop('win', axis=1)</br>\n",
    "   y = data['win'] </br>\n",
    "3 .Split the Data into Training and Testing Sets:\n",
    "Use `train_test_split()` from `sklearn.model_selection` to divide the data. Set `test_size`=0.2 to allocate 20% for testing and 80% for training, and use `random_state`=42 to ensure reproducibility of the split.</br>\n",
    "4. Standardize the features:\n",
    "Use `StandardScaler()` from sklearn.preprocessing to scale the features.</br>\n",
    "5. Convert to PyTorch tensors:\n",
    "Use `torch.tensor()` to convert the data to PyTorch tensors.\n",
    "\n",
    "#### Exercise 1:  \n",
    "\n",
    "Write a code to load the dataset, split it into training and testing sets, standardize the features, and convert the data into PyTorch tensors for use in training a PyTorch model.  \n"
   ]
  },
  {
   "cell_type": "markdown",
   "metadata": {},
   "source": [
    "### Setup\n",
    "\n"
   ]
  },
  {
   "cell_type": "code",
   "execution_count": 4,
   "metadata": {},
   "outputs": [],
   "source": [
    "\n",
    "import pandas as pd\n",
    "import matplotlib.pyplot as plt\n",
    "import torch\n",
    "from sklearn.model_selection import train_test_split\n",
    "from sklearn.preprocessing import StandardScaler\n",
    "from torch.utils.data import DataLoader,TensorDataset\n",
    "import torch.optim as optim\n",
    "import torch.nn as nn\n",
    "from sklearn.metrics import confusion_matrix, roc_curve, auc, classification_report, accuracy_score\n",
    "import seaborn as sns"
   ]
  },
  {
   "cell_type": "code",
   "execution_count": 5,
   "metadata": {},
   "outputs": [
    {
     "data": {
      "text/plain": [
       "(1000, 9)"
      ]
     },
     "metadata": {},
     "output_type": "display_data"
    },
    {
     "data": {
      "text/html": [
       "<div>\n",
       "<style scoped>\n",
       "    .dataframe tbody tr th:only-of-type {\n",
       "        vertical-align: middle;\n",
       "    }\n",
       "\n",
       "    .dataframe tbody tr th {\n",
       "        vertical-align: top;\n",
       "    }\n",
       "\n",
       "    .dataframe thead th {\n",
       "        text-align: right;\n",
       "    }\n",
       "</style>\n",
       "<table border=\"1\" class=\"dataframe\">\n",
       "  <thead>\n",
       "    <tr style=\"text-align: right;\">\n",
       "      <th></th>\n",
       "      <th>win</th>\n",
       "      <th>kills</th>\n",
       "      <th>deaths</th>\n",
       "      <th>assists</th>\n",
       "      <th>gold_earned</th>\n",
       "      <th>cs</th>\n",
       "      <th>wards_placed</th>\n",
       "      <th>wards_killed</th>\n",
       "      <th>damage_dealt</th>\n",
       "    </tr>\n",
       "  </thead>\n",
       "  <tbody>\n",
       "    <tr>\n",
       "      <th>0</th>\n",
       "      <td>0</td>\n",
       "      <td>16</td>\n",
       "      <td>6</td>\n",
       "      <td>19</td>\n",
       "      <td>17088</td>\n",
       "      <td>231</td>\n",
       "      <td>11</td>\n",
       "      <td>7</td>\n",
       "      <td>15367</td>\n",
       "    </tr>\n",
       "    <tr>\n",
       "      <th>1</th>\n",
       "      <td>1</td>\n",
       "      <td>8</td>\n",
       "      <td>8</td>\n",
       "      <td>5</td>\n",
       "      <td>14865</td>\n",
       "      <td>259</td>\n",
       "      <td>10</td>\n",
       "      <td>2</td>\n",
       "      <td>38332</td>\n",
       "    </tr>\n",
       "    <tr>\n",
       "      <th>2</th>\n",
       "      <td>0</td>\n",
       "      <td>0</td>\n",
       "      <td>17</td>\n",
       "      <td>11</td>\n",
       "      <td>15919</td>\n",
       "      <td>169</td>\n",
       "      <td>14</td>\n",
       "      <td>5</td>\n",
       "      <td>24642</td>\n",
       "    </tr>\n",
       "    <tr>\n",
       "      <th>3</th>\n",
       "      <td>0</td>\n",
       "      <td>19</td>\n",
       "      <td>11</td>\n",
       "      <td>1</td>\n",
       "      <td>11534</td>\n",
       "      <td>264</td>\n",
       "      <td>14</td>\n",
       "      <td>3</td>\n",
       "      <td>15789</td>\n",
       "    </tr>\n",
       "    <tr>\n",
       "      <th>4</th>\n",
       "      <td>0</td>\n",
       "      <td>12</td>\n",
       "      <td>7</td>\n",
       "      <td>6</td>\n",
       "      <td>18926</td>\n",
       "      <td>124</td>\n",
       "      <td>15</td>\n",
       "      <td>7</td>\n",
       "      <td>40268</td>\n",
       "    </tr>\n",
       "  </tbody>\n",
       "</table>\n",
       "</div>"
      ],
      "text/plain": [
       "   win  kills  deaths  assists  gold_earned   cs  wards_placed  wards_killed  \\\n",
       "0    0     16       6       19        17088  231            11             7   \n",
       "1    1      8       8        5        14865  259            10             2   \n",
       "2    0      0      17       11        15919  169            14             5   \n",
       "3    0     19      11        1        11534  264            14             3   \n",
       "4    0     12       7        6        18926  124            15             7   \n",
       "\n",
       "   damage_dealt  \n",
       "0         15367  \n",
       "1         38332  \n",
       "2         24642  \n",
       "3         15789  \n",
       "4         40268  "
      ]
     },
     "execution_count": 5,
     "metadata": {},
     "output_type": "execute_result"
    }
   ],
   "source": [
    "data=pd.read_csv('league_of_legends_data_large.csv')\n",
    "display(data.shape)\n",
    "data.head()"
   ]
  },
  {
   "cell_type": "code",
   "execution_count": 6,
   "metadata": {},
   "outputs": [
    {
     "data": {
      "text/html": [
       "<div>\n",
       "<style scoped>\n",
       "    .dataframe tbody tr th:only-of-type {\n",
       "        vertical-align: middle;\n",
       "    }\n",
       "\n",
       "    .dataframe tbody tr th {\n",
       "        vertical-align: top;\n",
       "    }\n",
       "\n",
       "    .dataframe thead th {\n",
       "        text-align: right;\n",
       "    }\n",
       "</style>\n",
       "<table border=\"1\" class=\"dataframe\">\n",
       "  <thead>\n",
       "    <tr style=\"text-align: right;\">\n",
       "      <th></th>\n",
       "      <th>win</th>\n",
       "      <th>kills</th>\n",
       "      <th>deaths</th>\n",
       "      <th>assists</th>\n",
       "      <th>gold_earned</th>\n",
       "      <th>cs</th>\n",
       "      <th>wards_placed</th>\n",
       "      <th>wards_killed</th>\n",
       "      <th>damage_dealt</th>\n",
       "    </tr>\n",
       "  </thead>\n",
       "  <tbody>\n",
       "    <tr>\n",
       "      <th>count</th>\n",
       "      <td>1000.00000</td>\n",
       "      <td>1000.000000</td>\n",
       "      <td>1000.000000</td>\n",
       "      <td>1000.000000</td>\n",
       "      <td>1000.000000</td>\n",
       "      <td>1000.00000</td>\n",
       "      <td>1000.000000</td>\n",
       "      <td>1000.000000</td>\n",
       "      <td>1000.000000</td>\n",
       "    </tr>\n",
       "    <tr>\n",
       "      <th>mean</th>\n",
       "      <td>0.51000</td>\n",
       "      <td>9.332000</td>\n",
       "      <td>9.487000</td>\n",
       "      <td>9.395000</td>\n",
       "      <td>12433.808000</td>\n",
       "      <td>181.21300</td>\n",
       "      <td>9.834000</td>\n",
       "      <td>4.541000</td>\n",
       "      <td>27484.905000</td>\n",
       "    </tr>\n",
       "    <tr>\n",
       "      <th>std</th>\n",
       "      <td>0.50015</td>\n",
       "      <td>5.798569</td>\n",
       "      <td>5.773488</td>\n",
       "      <td>5.765086</td>\n",
       "      <td>4388.138751</td>\n",
       "      <td>72.11491</td>\n",
       "      <td>5.739633</td>\n",
       "      <td>2.906332</td>\n",
       "      <td>13221.571932</td>\n",
       "    </tr>\n",
       "    <tr>\n",
       "      <th>min</th>\n",
       "      <td>0.00000</td>\n",
       "      <td>0.000000</td>\n",
       "      <td>0.000000</td>\n",
       "      <td>0.000000</td>\n",
       "      <td>5002.000000</td>\n",
       "      <td>50.00000</td>\n",
       "      <td>0.000000</td>\n",
       "      <td>0.000000</td>\n",
       "      <td>5028.000000</td>\n",
       "    </tr>\n",
       "    <tr>\n",
       "      <th>25%</th>\n",
       "      <td>0.00000</td>\n",
       "      <td>4.000000</td>\n",
       "      <td>4.000000</td>\n",
       "      <td>4.000000</td>\n",
       "      <td>8551.750000</td>\n",
       "      <td>121.00000</td>\n",
       "      <td>5.000000</td>\n",
       "      <td>2.000000</td>\n",
       "      <td>15759.000000</td>\n",
       "    </tr>\n",
       "    <tr>\n",
       "      <th>50%</th>\n",
       "      <td>1.00000</td>\n",
       "      <td>9.000000</td>\n",
       "      <td>9.000000</td>\n",
       "      <td>10.000000</td>\n",
       "      <td>12295.000000</td>\n",
       "      <td>183.50000</td>\n",
       "      <td>10.000000</td>\n",
       "      <td>5.000000</td>\n",
       "      <td>27370.000000</td>\n",
       "    </tr>\n",
       "    <tr>\n",
       "      <th>75%</th>\n",
       "      <td>1.00000</td>\n",
       "      <td>14.000000</td>\n",
       "      <td>14.000000</td>\n",
       "      <td>14.000000</td>\n",
       "      <td>16348.250000</td>\n",
       "      <td>243.00000</td>\n",
       "      <td>15.000000</td>\n",
       "      <td>7.000000</td>\n",
       "      <td>39453.000000</td>\n",
       "    </tr>\n",
       "    <tr>\n",
       "      <th>max</th>\n",
       "      <td>1.00000</td>\n",
       "      <td>19.000000</td>\n",
       "      <td>19.000000</td>\n",
       "      <td>19.000000</td>\n",
       "      <td>19955.000000</td>\n",
       "      <td>299.00000</td>\n",
       "      <td>19.000000</td>\n",
       "      <td>9.000000</td>\n",
       "      <td>49927.000000</td>\n",
       "    </tr>\n",
       "  </tbody>\n",
       "</table>\n",
       "</div>"
      ],
      "text/plain": [
       "              win        kills       deaths      assists   gold_earned  \\\n",
       "count  1000.00000  1000.000000  1000.000000  1000.000000   1000.000000   \n",
       "mean      0.51000     9.332000     9.487000     9.395000  12433.808000   \n",
       "std       0.50015     5.798569     5.773488     5.765086   4388.138751   \n",
       "min       0.00000     0.000000     0.000000     0.000000   5002.000000   \n",
       "25%       0.00000     4.000000     4.000000     4.000000   8551.750000   \n",
       "50%       1.00000     9.000000     9.000000    10.000000  12295.000000   \n",
       "75%       1.00000    14.000000    14.000000    14.000000  16348.250000   \n",
       "max       1.00000    19.000000    19.000000    19.000000  19955.000000   \n",
       "\n",
       "               cs  wards_placed  wards_killed  damage_dealt  \n",
       "count  1000.00000   1000.000000   1000.000000   1000.000000  \n",
       "mean    181.21300      9.834000      4.541000  27484.905000  \n",
       "std      72.11491      5.739633      2.906332  13221.571932  \n",
       "min      50.00000      0.000000      0.000000   5028.000000  \n",
       "25%     121.00000      5.000000      2.000000  15759.000000  \n",
       "50%     183.50000     10.000000      5.000000  27370.000000  \n",
       "75%     243.00000     15.000000      7.000000  39453.000000  \n",
       "max     299.00000     19.000000      9.000000  49927.000000  "
      ]
     },
     "execution_count": 6,
     "metadata": {},
     "output_type": "execute_result"
    }
   ],
   "source": [
    "data.describe()"
   ]
  },
  {
   "cell_type": "code",
   "execution_count": 7,
   "metadata": {},
   "outputs": [
    {
     "data": {
      "text/plain": [
       "win             0\n",
       "kills           0\n",
       "deaths          0\n",
       "assists         0\n",
       "gold_earned     0\n",
       "cs              0\n",
       "wards_placed    0\n",
       "wards_killed    0\n",
       "damage_dealt    0\n",
       "dtype: int64"
      ]
     },
     "execution_count": 7,
     "metadata": {},
     "output_type": "execute_result"
    }
   ],
   "source": [
    "data.isna().sum()"
   ]
  },
  {
   "cell_type": "code",
   "execution_count": 8,
   "metadata": {},
   "outputs": [
    {
     "name": "stdout",
     "output_type": "stream",
     "text": [
      "<class 'pandas.core.frame.DataFrame'>\n",
      "RangeIndex: 1000 entries, 0 to 999\n",
      "Data columns (total 9 columns):\n",
      " #   Column        Non-Null Count  Dtype\n",
      "---  ------        --------------  -----\n",
      " 0   win           1000 non-null   int64\n",
      " 1   kills         1000 non-null   int64\n",
      " 2   deaths        1000 non-null   int64\n",
      " 3   assists       1000 non-null   int64\n",
      " 4   gold_earned   1000 non-null   int64\n",
      " 5   cs            1000 non-null   int64\n",
      " 6   wards_placed  1000 non-null   int64\n",
      " 7   wards_killed  1000 non-null   int64\n",
      " 8   damage_dealt  1000 non-null   int64\n",
      "dtypes: int64(9)\n",
      "memory usage: 70.4 KB\n"
     ]
    }
   ],
   "source": [
    "data.info()"
   ]
  },
  {
   "cell_type": "code",
   "execution_count": 9,
   "metadata": {},
   "outputs": [],
   "source": [
    "X=data.drop('win',axis=1)\n",
    "Y=data['win']"
   ]
  },
  {
   "cell_type": "code",
   "execution_count": 10,
   "metadata": {},
   "outputs": [],
   "source": [
    "xtrain,xtest,ytrain,ytest=train_test_split(X,Y,test_size=0.2, random_state=42)"
   ]
  },
  {
   "cell_type": "code",
   "execution_count": 11,
   "metadata": {},
   "outputs": [],
   "source": [
    "X=data.drop('win',axis=1)\n",
    "Y=data['win']"
   ]
  },
  {
   "cell_type": "code",
   "execution_count": 12,
   "metadata": {},
   "outputs": [
    {
     "data": {
      "text/plain": [
       "'X_train shape: (800, 8)'"
      ]
     },
     "metadata": {},
     "output_type": "display_data"
    },
    {
     "data": {
      "text/plain": [
       "'y_train shape: (800,)'"
      ]
     },
     "metadata": {},
     "output_type": "display_data"
    },
    {
     "data": {
      "text/plain": [
       "'X_test shape: (200, 8)'"
      ]
     },
     "metadata": {},
     "output_type": "display_data"
    },
    {
     "data": {
      "text/plain": [
       "'y_test shape: (200,)'"
      ]
     },
     "metadata": {},
     "output_type": "display_data"
    }
   ],
   "source": [
    "display(f'X_train shape: {xtrain.shape}')\n",
    "display(f'y_train shape: {ytrain.shape}')\n",
    "display(f'X_test shape: {xtest.shape}')\n",
    "display(f'y_test shape: {ytest.shape}')"
   ]
  },
  {
   "cell_type": "code",
   "execution_count": 13,
   "metadata": {},
   "outputs": [],
   "source": [
    "scaler=StandardScaler()\n",
    "xtrain=scaler.fit_transform(xtrain)\n",
    "xtest=scaler.transform(xtest)\n",
    "\n",
    "xtrain=torch.tensor(xtrain,dtype=torch.float32)\n",
    "ytrain=torch.tensor(ytrain.values, dtype=torch.float32).unsqueeze(1)\n",
    "xtest=torch.tensor(xtest,dtype=torch.float32)\n",
    "ytest=torch.tensor(ytest.values,dtype=torch.float32).unsqueeze(1)\n",
    "\n",
    "train_dataset=TensorDataset(xtrain,ytrain)\n",
    "test_dataset=TensorDataset(xtest,ytest)\n",
    "\n",
    "train_loader=DataLoader(train_dataset,batch_size=2,shuffle=True)\n",
    "test_loader=DataLoader(test_dataset,batch_size=2,shuffle=False)"
   ]
  },
  {
   "cell_type": "code",
   "execution_count": 14,
   "metadata": {},
   "outputs": [
    {
     "data": {
      "text/plain": [
       "8"
      ]
     },
     "execution_count": 14,
     "metadata": {},
     "output_type": "execute_result"
    }
   ],
   "source": [
    "xtrain.shape[1]"
   ]
  },
  {
   "cell_type": "code",
   "execution_count": 15,
   "metadata": {},
   "outputs": [
    {
     "data": {
      "text/plain": [
       "torch.Size([800, 1])"
      ]
     },
     "execution_count": 15,
     "metadata": {},
     "output_type": "execute_result"
    }
   ],
   "source": [
    "ytrain.shape"
   ]
  },
  {
   "cell_type": "markdown",
   "metadata": {},
   "source": [
    "### Step 2: Logistic Regression Model  \n",
    "\n",
    "#### Task 2: Implement a logistic regression model using PyTorch.  \n",
    "\n",
    "Defining the logistic regression model involves specifying the input dimensions, the forward pass using the sigmoid activation function, and initializing the model, loss function, and optimizer.  \n",
    "\n",
    "1 .Define the Logistic Regression Model:</br>\n",
    "  Create a class LogisticRegressionModel that inherits from torch.nn.Module.</br>\n",
    " - In the `__init__()` method, define a linear layer (nn.Linear) to implement the logistic regression model.</br>\n",
    "- The `forward()` method should apply the sigmoid activation function to the output of the linear layer.</br>\n",
    "\n",
    "2.Initialize the Model, Loss Function, and Optimizer:</br>\n",
    "- Set input_dim: Use `X_train.shape[1]` to get the number of features from the training data (X_train).</br>\n",
    "- Initialize the model: Create an instance of the LogisticRegressionModel class  (e.g., `model = LogisticRegressionModel()`)while passing input_dim as a parameter</br>\n",
    "- Loss Function: Use `BCELoss()` from torch.nn (Binary Cross-Entropy Loss).</br>\n",
    "- Optimizer: Initialize the optimizer using `optim.SGD()` with a learning rate of 0.01</br>\n",
    "\n",
    "#### Exercise 2:  \n",
    "\n",
    "Define the logistic regression model using PyTorch, specifying the input dimensions and the forward pass. Initialize the model, loss function, and optimizer.  \n"
   ]
  },
  {
   "cell_type": "code",
   "execution_count": null,
   "metadata": {},
   "outputs": [],
   "source": []
  },
  {
   "cell_type": "code",
   "execution_count": 17,
   "metadata": {},
   "outputs": [
    {
     "name": "stdout",
     "output_type": "stream",
     "text": [
      "LogisticRegressionModel(\n",
      "  (linear): Linear(in_features=8, out_features=1, bias=True)\n",
      ")\n"
     ]
    }
   ],
   "source": [
    "\n",
    "class LogisticRegressionModel(nn.Module):\n",
    "    def __init__(self,input_parameters,output_parameters=1):\n",
    "        super(LogisticRegressionModel,self).__init__()\n",
    "        self.linear=nn.Linear(input_parameters,output_parameters)\n",
    "  #      self.fc2=nn.Linear(hidden_parameters,output_parameters)\n",
    "    def forward(self,x):\n",
    "        x=torch.sigmoid(self.linear(x))\n",
    "#        x=self.fc2(x)\n",
    "        return x\n",
    "\n",
    "input_parameters=xtrain.shape[1]\n",
    "model=LogisticRegressionModel(input_parameters)\n",
    "\n",
    "\n",
    "print(model)"
   ]
  },
  {
   "cell_type": "code",
   "execution_count": 18,
   "metadata": {},
   "outputs": [],
   "source": [
    "criterion=nn.BCELoss()\n",
    "optimiser=optim.SGD(model.parameters(),lr=0.01)"
   ]
  },
  {
   "cell_type": "markdown",
   "metadata": {},
   "source": [
    "### Step 3: Model Training  \n",
    "\n",
    "#### Task 3: Train the logistic regression model on the dataset.  \n",
    "\n",
    "The training loop will run for a specified number of epochs. In each epoch, the model makes predictions, calculates the loss, performs backpropagation, and updates the model parameters.\n",
    "\n",
    "1. Set Number of Epochs:  \n",
    "   - Define the number of epochs for training to 1000.\n",
    "\n",
    "2. Training Loop:  \n",
    "   For each epoch:\n",
    "   - Set the model to training mode using `model.train()`.\n",
    "   - Zero the gradients using `optimizer.zero_grad()`.\n",
    "   - Pass the training data (`X_train`) through the model to get the predictions (`outputs`).\n",
    "   - Calculate the loss using the defined loss function (`criterion`).\n",
    "   - Perform backpropagation with `loss.backward()`.\n",
    "   - Update the model's weights using `optimizer.step()`.\n",
    "\n",
    "3. Print Loss Every 100 Epochs:  \n",
    "   - After every 100 epochs, print the current epoch number and the loss value.\n",
    "\n",
    "4. Model Evaluation:  \n",
    "   - Set the model to evaluation mode using `model.eval()`.\n",
    "   - Use `torch.no_grad()` to ensure no gradients are calculated during evaluation.\n",
    "   - Get predictions on both the training set (`X_train`) and the test set (`X_test`).\n",
    "\n",
    "5. Calculate Accuracy:  \n",
    "   - For both the training and test datasets, compute the accuracy by comparing the predicted values with the true values (`y_train`, `y_test`).\n",
    "   - Use a threshold of 0.5 for classification\n",
    "   \n",
    "6. Print Accuracy:  \n",
    "   - Print the training and test accuracies after the evaluation is complete.\n",
    "\n",
    "#### Exercise 3:  \n",
    "\n",
    "Write the code to train the logistic regression model on the dataset. Implement the training loop, making predictions, calculating the loss, performing backpropagation, and updating model parameters. Evaluate the model's accuracy on training and testing sets.  \n"
   ]
  },
  {
   "cell_type": "code",
   "execution_count": 20,
   "metadata": {},
   "outputs": [
    {
     "name": "stdout",
     "output_type": "stream",
     "text": [
      "Epoch: [100/1000], Train Loss: 0.6899425286054611, Test Loss: 0.7019106978178025, Training Accuracy: 0.5325, Test Accuracy: 0.4750\n",
      "Epoch: [200/1000], Train Loss: 0.6902575153112411, Test Loss: 0.697977334856987, Training Accuracy: 0.5563, Test Accuracy: 0.5250\n",
      "Epoch: [300/1000], Train Loss: 0.6895315087586641, Test Loss: 0.6998645466566086, Training Accuracy: 0.5450, Test Accuracy: 0.4850\n",
      "Epoch: [400/1000], Train Loss: 0.6898938851803541, Test Loss: 0.6972838085889816, Training Accuracy: 0.5275, Test Accuracy: 0.5150\n",
      "Epoch: [500/1000], Train Loss: 0.6903773733228445, Test Loss: 0.6974951827526092, Training Accuracy: 0.5275, Test Accuracy: 0.5150\n",
      "Epoch: [600/1000], Train Loss: 0.689993729814887, Test Loss: 0.6992187213897705, Training Accuracy: 0.5250, Test Accuracy: 0.4750\n",
      "Epoch: [700/1000], Train Loss: 0.6901420864462853, Test Loss: 0.6987853926420212, Training Accuracy: 0.5238, Test Accuracy: 0.5150\n",
      "Epoch: [800/1000], Train Loss: 0.6904067895561457, Test Loss: 0.7003229331970214, Training Accuracy: 0.5350, Test Accuracy: 0.4750\n",
      "Epoch: [900/1000], Train Loss: 0.6901930603384971, Test Loss: 0.6990459161996841, Training Accuracy: 0.5300, Test Accuracy: 0.4750\n",
      "Epoch: [1000/1000], Train Loss: 0.690030069500208, Test Loss: 0.7025102251768112, Training Accuracy: 0.5238, Test Accuracy: 0.5150\n"
     ]
    }
   ],
   "source": [
    "\n",
    "epochs=1000\n",
    "train_losses=[]\n",
    "test_losses=[]\n",
    "train_accuracies=[]\n",
    "test_accuracies=[]\n",
    "\n",
    "for epoch in range(epochs):\n",
    "    model.train()\n",
    "    running_loss=0.0\n",
    "    y_train_pred = []\n",
    "    y_train_true = []\n",
    "    \n",
    "    for x,y in train_loader:\n",
    "        optimiser.zero_grad()\n",
    "        outputs=model(x)\n",
    "        loss=criterion(outputs,y)\n",
    "        loss.backward()\n",
    "        optimiser.step()\n",
    "        running_loss += loss.item()\n",
    "        y_train_pred.extend((outputs.squeeze() >= 0.5).int().tolist())\n",
    "        y_train_true.extend(y.tolist())\n",
    "        \n",
    "    training_loss= running_loss/len(train_loader)\n",
    "    train_losses.append(training_loss)\n",
    "    train_accuracy = accuracy_score(y_train_true, y_train_pred)\n",
    "    train_accuracies.append(train_accuracy)\n",
    "    \n",
    "    model.eval()\n",
    "    running_loss_test=0.0\n",
    "    y_test_pred = []\n",
    "    y_test_true = []\n",
    "    \n",
    "    for x,y in test_loader:\n",
    "        output=model(x)\n",
    "        loss=criterion(output,y)\n",
    "        running_loss_test += loss.item()\n",
    "        y_test_pred.extend((outputs.squeeze() >= 0.5).int().tolist())\n",
    "        y_test_true.extend(y.tolist())\n",
    "        \n",
    "    test_loss=running_loss_test/len(test_loader)\n",
    "    test_losses.append(test_loss)\n",
    "    test_accuracy = accuracy_score(y_test_true, y_test_pred)\n",
    "    test_accuracies.append(test_accuracy)\n",
    "\n",
    "    if (epoch+1)%100==0:\n",
    "        print(f'Epoch: [{epoch+1}/{epochs}], Train Loss: {training_loss}, Test Loss: {test_loss}, Training Accuracy: {train_accuracy:.4f}, Test Accuracy: {test_accuracy:.4f}')\n",
    "    "
   ]
  },
  {
   "cell_type": "markdown",
   "metadata": {},
   "source": [
    "### Step 4: Model Optimization and Evaluation  \n",
    "\n",
    "#### Task 4: Implement optimization techniques and evaluate the model's performance.  \n",
    "\n",
    "Optimization techniques such as L2 regularization (Ridge Regression) help in preventing overfitting. The model is retrained with these optimizations, and its performance is evaluated on both training and testing sets. \n",
    "\n",
    "**Weight Decay** :In the context of machine learning and specifically in optimization algorithms, weight_decay is a parameter used to apply L2 regularization to the model's parameters (weights). It helps prevent the model from overfitting by penalizing large weight values, thereby encouraging the model to find simpler solutions.To use L2 regularization, you need to modify the optimizer by setting the weight_decay parameter. The weight_decay parameter in the optimizer adds the L2 regularization term during training.\n",
    "For example, when you initialize the optimizer with optim.SGD(model.parameters(), lr=0.01, weight_decay=0.01), the weight_decay=0.01 term applies L2 regularization with a strength of 0.01.\n",
    "\n",
    "1. Set Up the Optimizer with L2 Regularization:\n",
    "   - Modify the optimizer to include `weight_decay` for L2 regularization.\n",
    "   - Example:\n",
    "     ```python\n",
    "     optimizer = optim.SGD(model.parameters(), lr=0.01, weight_decay=0.01)\n",
    "     ```\n",
    "2. Train the Model with L2 Regularization:\n",
    "    - Follow the same steps as before but use the updated optimizer with regularization during training.\n",
    "    - Use epochs=1000\n",
    "   \n",
    "3. Evaluate the Optimized Model:\n",
    "   - After training, evaluate the model on both the training and test datasets.\n",
    "   - Compute the accuracy for both sets by comparing the model's predictions to the true labels (`y_train` and `y_test`).\n",
    "\n",
    "4. Calculate and Print the Accuracy:\n",
    "   - Use a threshold of 0.5 to determine whether the model's predictions are class 0 or class 1.\n",
    "   - Print the training accuracy and test accuracy  after evaluation.\n",
    "\n",
    "\n",
    "#### Exercise 4:  \n",
    "\n",
    "Implement optimization techniques like L2 regularization and retrain the model. Evaluate the performance of the optimized model on both training and testing sets.  \n"
   ]
  },
  {
   "cell_type": "code",
   "execution_count": 22,
   "metadata": {},
   "outputs": [
    {
     "name": "stdout",
     "output_type": "stream",
     "text": [
      "Epoch: [100/1000], Train Loss: 0.68998763397336, Test Loss: 0.7025136649608612, Training Accuracy: 0.5344, Test Accuracy: 0.5012\n",
      "Epoch: [200/1000], Train Loss: 0.6898591686040163, Test Loss: 0.6987812089920044, Training Accuracy: 0.5344, Test Accuracy: 0.5045\n",
      "Epoch: [300/1000], Train Loss: 0.6902004454284907, Test Loss: 0.698403137922287, Training Accuracy: 0.5346, Test Accuracy: 0.5030\n",
      "Epoch: [400/1000], Train Loss: 0.690093022286892, Test Loss: 0.6999877059459686, Training Accuracy: 0.5345, Test Accuracy: 0.5026\n",
      "Epoch: [500/1000], Train Loss: 0.6893943287432194, Test Loss: 0.700981723666191, Training Accuracy: 0.5349, Test Accuracy: 0.5027\n",
      "Epoch: [600/1000], Train Loss: 0.6899177668988705, Test Loss: 0.7019461494684219, Training Accuracy: 0.5351, Test Accuracy: 0.5022\n",
      "Epoch: [700/1000], Train Loss: 0.6899737974256277, Test Loss: 0.6985072439908981, Training Accuracy: 0.5351, Test Accuracy: 0.5014\n",
      "Epoch: [800/1000], Train Loss: 0.6900918114185334, Test Loss: 0.6993816727399826, Training Accuracy: 0.5351, Test Accuracy: 0.5011\n",
      "Epoch: [900/1000], Train Loss: 0.690381520986557, Test Loss: 0.6989858585596085, Training Accuracy: 0.5350, Test Accuracy: 0.5014\n",
      "Epoch: [1000/1000], Train Loss: 0.6898564732819795, Test Loss: 0.7010739964246749, Training Accuracy: 0.5350, Test Accuracy: 0.5017\n"
     ]
    }
   ],
   "source": [
    "\n",
    "optimizer=optim.SGD(model.parameters(),lr=0.01, weight_decay=0.01)\n",
    "\n",
    "epochs=1000\n",
    "training_losses=[]\n",
    "test_losses=[]\n",
    "y_predict=[]\n",
    "train_accuracies=[]\n",
    "test_accuracies=[]\n",
    "\n",
    "for epoch in range(epochs):\n",
    "    model.train()\n",
    "    running_loss=0.0\n",
    "    for x,y in train_loader:\n",
    "        optimizer.zero_grad()\n",
    "        outputs=model(x)\n",
    "        loss=criterion(outputs,y)\n",
    "        loss.backward()\n",
    "        optimizer.step()\n",
    "        running_loss += loss.item()\n",
    "        y_train_pred.extend((outputs.squeeze() >= 0.5).int().tolist())\n",
    "        y_train_true.extend(y.tolist())\n",
    "\n",
    "    training_loss=running_loss/len(train_loader)\n",
    "    training_losses.append(training_loss)\n",
    "    train_accuracy = accuracy_score(y_train_true, y_train_pred)\n",
    "    train_accuracies.append(train_accuracy)\n",
    "\n",
    "    model.eval()\n",
    "    running_test_loss=0.0\n",
    "    for x,y in test_loader:\n",
    "        output=model(x)\n",
    "        loss=criterion(output,y)\n",
    "        running_test_loss += loss.item()\n",
    "        y_test_pred.extend((outputs.squeeze() >= 0.5).int().tolist())\n",
    "        y_test_true.extend(y.tolist())\n",
    "        \n",
    "    test_loss=running_test_loss/len(test_loader)\n",
    "    test_losses.append(test_loss)\n",
    "    test_accuracy = accuracy_score(y_test_true, y_test_pred)\n",
    "    test_accuracies.append(test_accuracy)\n",
    "\n",
    "    if (epoch+1)%100==0:\n",
    "        print(f'Epoch: [{epoch+1}/{epochs}], Train Loss: {training_loss}, Test Loss: {test_loss}, Training Accuracy: {train_accuracy:.4f}, Test Accuracy: {test_accuracy:.4f}')\n",
    "       "
   ]
  },
  {
   "cell_type": "markdown",
   "metadata": {},
   "source": [
    "### Step 5: Visualization and Interpretation  \n",
    "\n",
    "Visualization tools like confusion matrices and ROC curves provide insights into the model's performance. The confusion matrix helps in understanding the classification accuracy, while the ROC curve illustrates the trade-off between sensitivity and specificity.\n",
    "\n",
    "Confusion Matrix : A Confusion Matrix is a fundamental tool used in classification problems to evaluate the performance of a model. It provides a matrix showing the number of correct and incorrect predictions made by the model, categorized by the actual and predicted classes.\n",
    "Where \n",
    "-  True Positive (TP): Correctly predicted positive class (class 1).\n",
    "- True Negative (TN): Correctly predicted negative class (class 0).\n",
    "- False Positive (FP): Incorrectly predicted as positive (class 1), but the actual class is negative (class 0). This is also called a Type I error.\n",
    "- False Negative (FN): Incorrectly predicted as negative (class 0), but the actual class is positive (class 1). This is also called a Type II error. \n",
    "\n",
    "ROC Curve (Receiver Operating Characteristic Curve):\n",
    "The ROC Curve is a graphical representation used to evaluate the performance of a binary classification model across all classification thresholds. It plots two metrics:\n",
    "- True Positive Rate (TPR) or Recall (Sensitivity)-It is the proportion of actual positive instances (class 1) that were correctly classified as positive by the model.\n",
    "- False Positive Rate (FPR)-It is the proportion of actual negative instances (class 0) that were incorrectly classified as positive by the model.\n",
    "  \n",
    "AUC: \n",
    "AUC stands for Area Under the Curve and is a performance metric used to evaluate the quality of a binary classification model. Specifically, it refers to the area under the ROC curve (Receiver Operating Characteristic curve), which plots the True Positive Rate (TPR) versus the False Positive Rate (FPR) for different threshold values.\n",
    "\n",
    "Classification Report:\n",
    "A Classification Report is a summary of various classification metrics, which are useful for evaluating the performance of a classifier on the given dataset.\n",
    "\n",
    "#### Exercise 5:  \n",
    "\n",
    "Write code to visualize the model's performance using confusion matrices and ROC curves. Generate classification reports to evaluate precision, recall, and F1-score. Retrain the model with L2 regularization and evaluate the performance.\n"
   ]
  },
  {
   "cell_type": "code",
   "execution_count": 24,
   "metadata": {},
   "outputs": [
    {
     "name": "stdout",
     "output_type": "stream",
     "text": [
      "Test Set Confusion Matrix:\n"
     ]
    },
    {
     "data": {
      "image/png": "[encoded data removed]",
      "text/plain": [
       "<Figure size 640x480 with 2 Axes>"
      ]
     },
     "metadata": {},
     "output_type": "display_data"
    },
    {
     "name": "stdout",
     "output_type": "stream",
     "text": [
      "Training Set ROC Curve:\n"
     ]
    },
    {
     "data": {
      "image/png": "[encoded data removed]",
      "text/plain": [
       "<Figure size 640x480 with 1 Axes>"
      ]
     },
     "metadata": {},
     "output_type": "display_data"
    },
    {
     "name": "stdout",
     "output_type": "stream",
     "text": [
      "Test Set ROC Curve:\n"
     ]
    },
    {
     "data": {
      "image/png": "[encoded data removed]",
      "text/plain": [
       "<Figure size 640x480 with 1 Axes>"
      ]
     },
     "metadata": {},
     "output_type": "display_data"
    },
    {
     "name": "stdout",
     "output_type": "stream",
     "text": [
      "Training Set Classification Report:\n",
      "              precision    recall  f1-score   support\n",
      "\n",
      "        Loss       0.53      0.53      0.53       395\n",
      "         Win       0.55      0.55      0.55       405\n",
      "\n",
      "    accuracy                           0.54       800\n",
      "   macro avg       0.54      0.54      0.54       800\n",
      "weighted avg       0.54      0.54      0.54       800\n",
      "\n",
      "Test Set Classification Report:\n",
      "              precision    recall  f1-score   support\n",
      "\n",
      "        Loss       0.46      0.43      0.44        95\n",
      "         Win       0.51      0.53      0.52       105\n",
      "\n",
      "    accuracy                           0.48       200\n",
      "   macro avg       0.48      0.48      0.48       200\n",
      "weighted avg       0.48      0.48      0.48       200\n",
      "\n"
     ]
    }
   ],
   "source": [
    "## Write your code here\n",
    "def plot_confusion_matrix(y,y_predicted,title):\n",
    "    \n",
    "    cm=confusion_matrix(y,y_predicted)\n",
    "    sns.heatmap(cm,cmap='Blues',annot=True, xticklabels=['Loss','Win'],yticklabels=['Loss','Win'])\n",
    "    plt.xlabel(\"Predicted\")\n",
    "    plt.ylabel('Actual')\n",
    "    plt.title(title)\n",
    "    plt.show()\n",
    "\n",
    "def plot_roc_curve(y,y_predicted):\n",
    "    fpr,tpr,thresholds=roc_curve(y,y_predicted)\n",
    "    roc_auc=auc(fpr,tpr)\n",
    "    plt.plot(fpr,tpr,color='blue',label=f'ROC Curve (AUC = {roc_auc})')\n",
    "    plt.plot([0,1],[0,1],color='red',linestyle='--')\n",
    "    plt.xlabel('False Positive Rate')\n",
    "    plt.ylabel('True Positive Rate')\n",
    "    plt.title(\"Receiver Operating Characteristic (ROC) Curve\")\n",
    "    plt.legend(loc=\"lower right\")\n",
    "    plt.show()\n",
    "\n",
    "y_train_predicted = []\n",
    "y_train_true = []\n",
    "with torch.no_grad():\n",
    "    for x, y in train_loader:\n",
    "        outputs = model(x)\n",
    "        y_train_predicted.extend(outputs)\n",
    "        y_train_true.extend(y.tolist())\n",
    "\n",
    "y_train_pred = [1 if p >= 0.5 else 0 for p in y_train_predicted]\n",
    "\n",
    "\n",
    "y_test_predicted = []\n",
    "y_test_true = []\n",
    "with torch.no_grad():\n",
    "    for x, y in test_loader:\n",
    "        outputs = model(x)\n",
    "        y_test_predicted.extend(outputs)\n",
    "        y_test_true.extend(y.tolist())\n",
    "\n",
    "y_test_pred = [1 if p >= 0.5 else 0 for p in y_test_predicted]\n",
    "\n",
    "print(\"Test Set Confusion Matrix:\")\n",
    "plot_confusion_matrix(y_test_true, y_test_pred, title=\"Test Set Confusion Matrix\")\n",
    "\n",
    "print(\"Training Set ROC Curve:\")\n",
    "plot_roc_curve(y_train_true, y_train_predicted)\n",
    "\n",
    "print(\"Test Set ROC Curve:\")\n",
    "plot_roc_curve(y_test_true, y_test_predicted)\n",
    "\n",
    "print(\"Training Set Classification Report:\")\n",
    "print(classification_report(y_train_true, y_train_pred, target_names=['Loss','Win']))\n",
    "\n",
    "print(\"Test Set Classification Report:\")\n",
    "print(classification_report(y_test_true, y_test_pred, target_names=['Loss','Win']))"
   ]
  },
  {
   "cell_type": "code",
   "execution_count": null,
   "metadata": {},
   "outputs": [],
   "source": []
  },
  {
   "cell_type": "markdown",
   "metadata": {},
   "source": [
    "### Step 6: Model Saving and Loading  \n",
    "\n",
    "#### Task 6: Save and load the trained model.  \n",
    "\n",
    "This task demonstrates the techniques to persist a trained model using `torch.save` and reload it using `torch.load`. Evaluating the loaded model ensures that it retains its performance, making it practical for deployment in real-world applications.  \n",
    "\n",
    "1. Saving the Model:\n",
    "- Save the model's learned weights and biases using torch.save().( e.g. , torch.save(model.state_dict(), 'your_model_name.pth'))\n",
    "- Saving only the state dictionary (model parameters) is preferred because it’s more flexible and efficient than saving the entire model object.\n",
    "\n",
    "2. Loading the Model:\n",
    "- Create a new model instance (e.g., `model = LogisticRegressionModel()`) and load the saved parameters. ( e.g. , `model.load_state_dict(torch.load('your_model_name.pth'))`)`.\n",
    "\n",
    "3. Evaluating the Loaded Model:\n",
    "   - After loading, set the model to evaluation mode by calling `model.eval()\n",
    "   - After loading the model, evaluate it again on the test dataset to make sure it performs similarly to when it was first trained..Now evaluate it on the test data.\n",
    "   - Use `torch.no_grad()` to ensure that no gradients are computed.\n",
    "\n",
    "#### Exercise 6:  \n",
    "\n",
    "Write code to save the trained model and reload it. Ensure the loaded model performs consistently by evaluating it on the test dataset.  \n"
   ]
  },
  {
   "cell_type": "code",
   "execution_count": 26,
   "metadata": {},
   "outputs": [
    {
     "name": "stdout",
     "output_type": "stream",
     "text": [
      "Model Saved\n",
      "Model Loaded Successfully\n",
      "Accuracy of the loaded model on the test dataset: 48.50%\n"
     ]
    },
    {
     "name": "stderr",
     "output_type": "stream",
     "text": [
      "C:\\Users\\himas\\AppData\\Local\\Temp\\ipykernel_17380\\1436974949.py:5: FutureWarning: You are using `torch.load` with `weights_only=False` (the current default value), which uses the default pickle module implicitly. It is possible to construct malicious pickle data which will execute arbitrary code during unpickling (See https://github.com/pytorch/pytorch/blob/main/SECURITY.md#untrusted-models for more details). In a future release, the default value for `weights_only` will be flipped to `True`. This limits the functions that could be executed during unpickling. Arbitrary objects will no longer be allowed to be loaded via this mode unless they are explicitly allowlisted by the user via `torch.serialization.add_safe_globals`. We recommend you start setting `weights_only=True` for any use case where you don't have full control of the loaded file. Please open an issue on GitHub for any issues related to this experimental feature.\n",
      "  model_loaded.load_state_dict(torch.load('Leauge_of_Legends.pth'))\n"
     ]
    }
   ],
   "source": [
    "\n",
    "torch.save(model.state_dict(),'Leauge_of_Legends.pth')\n",
    "print('Model Saved')\n",
    "\n",
    "model_loaded=LogisticRegressionModel(input_parameters=8)\n",
    "model_loaded.load_state_dict(torch.load('Leauge_of_Legends.pth'))\n",
    "print(\"Model Loaded Successfully\")\n",
    "\n",
    "\n",
    "model_loaded.eval()\n",
    "correct_predictions = 0\n",
    "total_predictions = 0\n",
    "\n",
    "with torch.no_grad(): \n",
    "    for x, y in test_loader:\n",
    "        outputs = model_loaded(x)\n",
    "        predictions = (outputs > 0.5).int()  \n",
    "        correct_predictions += (predictions == y).sum().item()\n",
    "        total_predictions += y.size(0)\n",
    "\n",
    "\n",
    "accuracy = correct_predictions / total_predictions\n",
    "print(f\"Accuracy of the loaded model on the test dataset: {accuracy:.2%}\")"
   ]
  },
  {
   "cell_type": "markdown",
   "metadata": {},
   "source": [
    "### Step 7: Hyperparameter Tuning  \n",
    "\n",
    "#### Task 7: Perform hyperparameter tuning to find the best learning rate.  \n",
    "\n",
    "By testing different learning rates, you will identify the optimal rate that provides the best test accuracy. This fine-tuning is crucial for enhancing model performance . \n",
    "1. Define Learning Rates:\n",
    "   - Choose these learning rates to test ,[0.01, 0.05, 0.1]\n",
    "\n",
    "2. Reinitialize the Model for Each Learning Rate:\n",
    "  - For each learning rate, you’ll need to reinitialize the model and optimizer e.g.(`torch.optim.SGD(model.parameters(), lr=lr)`).\n",
    "   - Each new learning rate requires reinitializing the model since the optimizer and its parameters are linked to the learning rate.\n",
    "\n",
    "3. Train the Model for Each Learning Rate:\n",
    "  - Train the model for a fixed number of epochs (e.g., 50 or 100 epochs) for each learning rate, and compute the accuracy on the test set.\n",
    "  - Track the test accuracy for each learning rate and identify which one yields the best performance.\n",
    "\n",
    "4. Evaluate and Compare:\n",
    "  - After training with each learning rate, compare the test accuracy for each configuration.\n",
    "   - Report the learning rate that gives the highest test accuracy\n",
    "\n",
    "#### Exercise 7:  \n",
    "\n",
    "Perform hyperparameter tuning to find the best learning rate. Retrain the model for each learning rate and evaluate its performance to identify the optimal rate.  \n"
   ]
  },
  {
   "cell_type": "code",
   "execution_count": 28,
   "metadata": {},
   "outputs": [
    {
     "name": "stdout",
     "output_type": "stream",
     "text": [
      "Learning Rate: [0.005],  Test Accuracy: 0.4900\n",
      "Learning Rate: [0.01],  Test Accuracy: 0.4625\n",
      "Learning Rate: [0.05],  Test Accuracy: 0.4633\n",
      "Learning Rate: [0.1],  Test Accuracy: 0.4750\n",
      "Learning Rate: [0.15],  Test Accuracy: 0.4750\n",
      "Learning Rate: [0.2],  Test Accuracy: 0.4867\n"
     ]
    }
   ],
   "source": [
    "lrs=[0.005,0.01,0.05,0.1,0.15,0.2]\n",
    "epochs=50\n",
    "y_test_pred = []\n",
    "y_test_true = []\n",
    "\n",
    "for lri in lrs:\n",
    "    \n",
    "    model_loaded=LogisticRegressionModel(input_parameters=8)\n",
    "    optimiser=optim.SGD(model.parameters(),lr=lri)\n",
    "    \n",
    "    for epoch in range(epochs):\n",
    "\n",
    "        model_loaded.train()\n",
    "        \n",
    "        for x,y in train_loader:\n",
    "            optimiser.zero_grad()\n",
    "            output=model_loaded(x)\n",
    "            loss=criterion(output,y)\n",
    "            loss.backward()\n",
    "            optimiser.step()\n",
    "\n",
    "        model_loaded.eval()\n",
    "            \n",
    "        for x,y in test_loader:\n",
    "            output=model_loaded(x)\n",
    "            y_test_pred.extend((output.squeeze() >= 0.5).int().tolist())\n",
    "            y_test_true.extend(y.tolist())\n",
    "            \n",
    "        test_accuracy = accuracy_score(y_test_true, y_test_pred)\n",
    "    \n",
    "    print(f'Learning Rate: [{lri}],  Test Accuracy: {test_accuracy:.4f}')\n",
    "           \n",
    "        \n"
   ]
  },
  {
   "cell_type": "code",
   "execution_count": 29,
   "metadata": {},
   "outputs": [
    {
     "name": "stdout",
     "output_type": "stream",
     "text": [
      "Learning Rate: [0.005], Weight Decay :0.005, Test Accuracy: 0.4864\n",
      "Learning Rate: [0.005], Weight Decay :0.01, Test Accuracy: 0.4944\n",
      "Learning Rate: [0.005], Weight Decay :0.05, Test Accuracy: 0.4961\n",
      "Learning Rate: [0.005], Weight Decay :0.1, Test Accuracy: 0.4880\n",
      "Learning Rate: [0.005], Weight Decay :0.15, Test Accuracy: 0.4877\n",
      "Learning Rate: [0.01], Weight Decay :0.005, Test Accuracy: 0.4871\n",
      "Learning Rate: [0.01], Weight Decay :0.01, Test Accuracy: 0.4858\n",
      "Learning Rate: [0.01], Weight Decay :0.05, Test Accuracy: 0.4846\n",
      "Learning Rate: [0.01], Weight Decay :0.1, Test Accuracy: 0.4850\n",
      "Learning Rate: [0.01], Weight Decay :0.15, Test Accuracy: 0.4869\n",
      "Learning Rate: [0.05], Weight Decay :0.005, Test Accuracy: 0.4841\n",
      "Learning Rate: [0.05], Weight Decay :0.01, Test Accuracy: 0.4864\n",
      "Learning Rate: [0.05], Weight Decay :0.05, Test Accuracy: 0.4855\n",
      "Learning Rate: [0.05], Weight Decay :0.1, Test Accuracy: 0.4880\n",
      "Learning Rate: [0.05], Weight Decay :0.15, Test Accuracy: 0.4902\n",
      "Learning Rate: [0.1], Weight Decay :0.005, Test Accuracy: 0.4911\n",
      "Learning Rate: [0.1], Weight Decay :0.01, Test Accuracy: 0.4928\n",
      "Learning Rate: [0.1], Weight Decay :0.05, Test Accuracy: 0.4933\n",
      "Learning Rate: [0.1], Weight Decay :0.1, Test Accuracy: 0.4916\n",
      "Learning Rate: [0.1], Weight Decay :0.15, Test Accuracy: 0.4913\n",
      "Learning Rate: [0.15], Weight Decay :0.005, Test Accuracy: 0.4937\n",
      "Learning Rate: [0.15], Weight Decay :0.01, Test Accuracy: 0.4948\n",
      "Learning Rate: [0.15], Weight Decay :0.05, Test Accuracy: 0.4933\n",
      "Learning Rate: [0.15], Weight Decay :0.1, Test Accuracy: 0.4922\n",
      "Learning Rate: [0.15], Weight Decay :0.15, Test Accuracy: 0.4931\n",
      "Learning Rate: [0.2], Weight Decay :0.005, Test Accuracy: 0.4942\n",
      "Learning Rate: [0.2], Weight Decay :0.01, Test Accuracy: 0.4944\n",
      "Learning Rate: [0.2], Weight Decay :0.05, Test Accuracy: 0.4960\n",
      "Learning Rate: [0.2], Weight Decay :0.1, Test Accuracy: 0.4967\n",
      "Learning Rate: [0.2], Weight Decay :0.15, Test Accuracy: 0.4971\n"
     ]
    }
   ],
   "source": [
    "lrs=[0.005,0.01,0.05,0.1,0.15,0.2]\n",
    "weight_decays=[0.005,0.01,0.05,0.1,0.15]\n",
    "epochs=50\n",
    "\n",
    "for lri in lrs:\n",
    "\n",
    "    for decay in weight_decays:\n",
    "    \n",
    "        model_loaded=LogisticRegressionModel(input_parameters=8)\n",
    "        optimiser=optim.SGD(model.parameters(),lr=lri, weight_decay=decay)\n",
    "        \n",
    "        for epoch in range(epochs):\n",
    "    \n",
    "            model_loaded.train()\n",
    "            \n",
    "            for x,y in train_loader:\n",
    "                optimiser.zero_grad()\n",
    "                output=model_loaded(x)\n",
    "                loss=criterion(output,y)\n",
    "                loss.backward()\n",
    "                optimiser.step()\n",
    "    \n",
    "            model_loaded.eval()\n",
    "                \n",
    "            for x,y in test_loader:\n",
    "                output=model_loaded(x)\n",
    "                y_test_pred.extend((output.squeeze() >= 0.5).int().tolist())\n",
    "                y_test_true.extend(y.tolist())\n",
    "                \n",
    "            test_accuracy = accuracy_score(y_test_true, y_test_pred)\n",
    "        \n",
    "        print(f'Learning Rate: [{lri}], Weight Decay :{decay}, Test Accuracy: {test_accuracy:.4f}')\n",
    "           \n",
    "        \n"
   ]
  },
  {
   "cell_type": "markdown",
   "metadata": {},
   "source": [
    "### Step 8: Feature Importance  \n",
    "\n",
    "#### Task 8: Evaluate feature importance to understand the impact of each feature on the prediction.  \n",
    "\n",
    "The code to evaluate feature importance to understand the impact of each feature on the prediction.\n",
    "\n",
    " 1.Extracting Model Weights:\n",
    "  - The weights of the logistic regression model represent the importance of each feature in making predictions. These weights are stored in the model's linear layer (`model.linear.weight`).\n",
    " - You can extract the weights using `model.linear.weight.data.numpy()` and flatten the resulting tensor to get a 1D array of feature importances.\n",
    "\n",
    "2.Creating a DataFrame:\n",
    " - Create a pandas DataFrame with two columns: one for the feature names and the other for their corresponding importance values (i.e., the learned weights).\n",
    " - Ensure the features are aligned with their names in your dataset (e.g., `X_train.columns).\n",
    "\n",
    "3. Sorting and Plotting Feature Importance:\n",
    "  - Sort the features based on the absolute value of their importance (weights) to identify the most impactful features.\n",
    "  - Use a bar plot (via `matplotlib`) to visualize the sorted feature importances, with the feature names on the y-axis and importance values on the x-axis.\n",
    "\n",
    "4. Interpreting the Results:\n",
    "  - Larger absolute weights indicate more influential features. Positive weights suggest a positive correlation with the outcome (likely to predict the positive class), while negative weights suggest the opposite.\n",
    "\n",
    "#### Exercise 8:  \n",
    "\n",
    "Evaluate feature importance by extracting the weights of the linear layer and creating a DataFrame to display the importance of each feature. Visualize the feature importance using a bar plot.  \n"
   ]
  },
  {
   "cell_type": "code",
   "execution_count": 31,
   "metadata": {},
   "outputs": [
    {
     "name": "stdout",
     "output_type": "stream",
     "text": [
      "(8,)\n",
      "        Feature  Importance  Abs_Importance\n",
      "3   gold_earned    0.192163        0.192163\n",
      "5  wards_placed    0.105286        0.105286\n",
      "0         kills    0.104630        0.104630\n",
      "6  wards_killed   -0.039375        0.039375\n",
      "1        deaths   -0.018556        0.018556\n",
      "4            cs    0.018017        0.018017\n",
      "7  damage_dealt    0.011568        0.011568\n",
      "2       assists   -0.006151        0.006151\n"
     ]
    },
    {
     "data": {
      "image/png": "[encoded data removed]",
      "text/plain": [
       "<Figure size 1000x600 with 1 Axes>"
      ]
     },
     "metadata": {},
     "output_type": "display_data"
    }
   ],
   "source": [
    "# Extract the weights of the linear layer\n",
    "feature_weights = model.linear.weight.data.numpy().flatten()\n",
    "\n",
    "print(feature_weights.shape)\n",
    "\n",
    "# Define the feature names based on your dataset\n",
    "feature_names = X.columns\n",
    "\n",
    "feature_importance = pd.DataFrame({\n",
    "    'Feature': feature_names, \n",
    "    'Importance': feature_weights})\n",
    "\n",
    "feature_importance['Abs_Importance'] = feature_importance['Importance'].abs()\n",
    "feature_importance = feature_importance.sort_values(by='Abs_Importance', ascending=False)\n",
    "\n",
    "print(feature_importance)\n",
    "\n",
    "plt.figure(figsize=(10, 6))\n",
    "plt.bar(feature_importance['Feature'], feature_importance['Importance'])\n",
    "plt.xlabel('Features')\n",
    "plt.ylabel('Importance')\n",
    "plt.title('Feature Importance')\n",
    "plt.xticks(rotation=45)\n",
    "plt.show()\n",
    "\n"
   ]
  },
  {
   "cell_type": "code",
   "execution_count": null,
   "metadata": {},
   "outputs": [],
   "source": []
  }
 ],
 "metadata": {
  "kernelspec": {
   "display_name": "Python 3 (ipykernel)",
   "language": "python",
   "name": "python3"
  },
  "language_info": {
   "codemirror_mode": {
    "name": "ipython",
    "version": 3
   },
   "file_extension": ".py",
   "mimetype": "text/x-python",
   "name": "python",
   "nbconvert_exporter": "python",
   "pygments_lexer": "ipython3",
   "version": "3.12.7"
  },
  "prev_pub_hash": "3954a6768947e1337f1fbb623d47144c102fda57b5eb30076fea611e015e66ea"
 },
 "nbformat": 4,
 "nbformat_minor": 4
}
